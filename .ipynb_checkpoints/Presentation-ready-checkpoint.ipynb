{
 "cells": [
  {
   "cell_type": "code",
   "execution_count": null,
   "id": "3badc1d8",
   "metadata": {},
   "outputs": [],
   "source": [
    "import numpy as np  # linear algebra\n",
    "import pandas as pd # data processing, CSV file I/O (e.g. pd.read_csv)\n",
    "movies = pd.read_csv('tmdb_5000_movies.csv')\n",
    "credits = pd.read_csv('tmdb_5000_credits.csv') "
   ]
  },
  {
   "cell_type": "code",
   "execution_count": null,
   "id": "c7819715",
   "metadata": {},
   "outputs": [],
   "source": [
    "movies.head(2)      #Gives info about the first two movies,in the dataset"
   ]
  },
  {
   "cell_type": "code",
   "execution_count": null,
   "id": "694fa9a4",
   "metadata": {},
   "outputs": [],
   "source": [
    "movies.shape        #gives the dimensions of the matrix"
   ]
  },
  {
   "cell_type": "code",
   "execution_count": null,
   "id": "d4253eef",
   "metadata": {},
   "outputs": [],
   "source": [
    "credits.head(2)     #Gives info about the first two movie credits,in the dataset"
   ]
  },
  {
   "cell_type": "code",
   "execution_count": null,
   "id": "8a99f4da",
   "metadata": {},
   "outputs": [],
   "source": [
    "credits.shape       #gives the dimensions of the matrix"
   ]
  },
  {
   "cell_type": "code",
   "execution_count": null,
   "id": "a3c74a43",
   "metadata": {},
   "outputs": [],
   "source": [
    "\"\"\"\n",
    "Shows all the attributes and values associated with the \n",
    "first movie's crew (in our case its avatar)\n",
    "\"\"\"\n",
    "credits.head(1)['crew'].values"
   ]
  },
  {
   "cell_type": "code",
   "execution_count": null,
   "id": "13a10d36",
   "metadata": {},
   "outputs": [],
   "source": [
    "movies = movies.merge(credits,on = 'title') #Merging the two datasets using the common column title(can also be joined as per id)"
   ]
  },
  {
   "cell_type": "code",
   "execution_count": null,
   "id": "8b1aa274",
   "metadata": {},
   "outputs": [],
   "source": [
    "movies.shape                             #gives the dimensions of the merged dataset"
   ]
  },
  {
   "cell_type": "code",
   "execution_count": null,
   "id": "2ee43632",
   "metadata": {},
   "outputs": [],
   "source": [
    "movies.head(1)                           #columns have now increased, news column are added at the end"
   ]
  },
  {
   "cell_type": "code",
   "execution_count": null,
   "id": "f982b6a6",
   "metadata": {},
   "outputs": [],
   "source": [
    "\"\"\"\n",
    "Useful Recommending attributes\n",
    "\n",
    "genre          :Theme based recommending\n",
    "keywords       :Sometimes when You cant really name the movie, but you have words to describe\n",
    "id             :For handling purposes\n",
    "language       :(but in our dataset 4500+ are in english so, not very useful)\n",
    "title          :Exact titles can result in highly accurate results\n",
    "overview       :Similiar stories help in recommending them to the user\n",
    "popularity     :Very important factor, though our approach currently avoids the numeric data\n",
    "Release data   :For example some would like to watch movies from the 90s or 80s\n",
    "cast           :Recommendation based on actors,actresses \n",
    "crew           :Recommendation based on directors\n",
    "\n",
    "\"\"\""
   ]
  },
  {
   "cell_type": "code",
   "execution_count": null,
   "id": "f37c71c4",
   "metadata": {},
   "outputs": [],
   "source": [
    "#Keeping attributes necessary for creating tags for our data\n",
    "movies = movies[['movie_id','title','genres','overview','keywords','cast','crew']]"
   ]
  },
  {
   "cell_type": "code",
   "execution_count": null,
   "id": "e75c8a73",
   "metadata": {},
   "outputs": [],
   "source": [
    "#Preprocessing of data begins\n",
    "\n",
    "#STEP 1 : Checking for Any missing data\n",
    "\n",
    "movies.isnull().sum()       #Gives the summary of rows which have null values"
   ]
  },
  {
   "cell_type": "code",
   "execution_count": null,
   "id": "9f263b81",
   "metadata": {},
   "outputs": [],
   "source": [
    "movies.dropna(inplace=True)   #dropna() function is used to remove rows and columns with Null/NaN values. "
   ]
  },
  {
   "cell_type": "code",
   "execution_count": null,
   "id": "e53c5abe",
   "metadata": {},
   "outputs": [],
   "source": [
    "#STEP 2:  Checking for any duplicated data\n",
    "\n",
    "movies.duplicated().sum()"
   ]
  },
  {
   "cell_type": "code",
   "execution_count": null,
   "id": "cc4c5798",
   "metadata": {},
   "outputs": [],
   "source": [
    "#STEP 3: Customising and Refining data to get our tags for every movie in the dataset\n",
    "\n",
    "import ast"
   ]
  },
  {
   "cell_type": "code",
   "execution_count": null,
   "id": "16b959da",
   "metadata": {},
   "outputs": [],
   "source": [
    "#Three Helper Functions to ease the task of customising and refining data\n",
    "\n",
    "def convert(data):                      #The data set is in string format\n",
    "    List = []                           #We need a list\n",
    "    for i in ast.literal_eval(data):    #Converting the string data into a list of tags\n",
    "        List.append(i['name']) \n",
    "    return List "
   ]
  },
  {
   "cell_type": "code",
   "execution_count": null,
   "id": "f8e39cfd",
   "metadata": {},
   "outputs": [],
   "source": [
    "\"\"\"\n",
    "The method for converting the string data to list of tags, is same as that used for keywords and genres\n",
    "But in the case for cast column, the idea is to give priority to the top 4 leading acters/actresses for recommendation\n",
    "This will increase the efficiency and readability of the code(as well as the working matrix)\n",
    "This is done to get the recommendation as per the first thought that the use gets when he/she hears the name of a movie\n",
    "For example : If the user hears the name Iron Man, the first acter that will pop up in the user's mind will be \n",
    "              'Robert Downey Jr'\n",
    "\"\"\"\n",
    "def top_four_people(data):                      #The data set is in string format\n",
    "    List = []\n",
    "    counter = 0                                 # Counter to get the top 4 cast of the movie\n",
    "    for i in ast.literal_eval(data):\n",
    "        if counter < 4:\n",
    "            List.append(i['name'])\n",
    "        counter += 1\n",
    "    return List"
   ]
  },
  {
   "cell_type": "code",
   "execution_count": null,
   "id": "46e975c7",
   "metadata": {},
   "outputs": [],
   "source": [
    "\"\"\"\n",
    "For the case of Crew column the only need is to get the name of the director of the movie.\n",
    "People usually don't remember who was the VFX expert, or who did the final editing, or who designed the sets\n",
    "But people Do remember The Director in many cases\n",
    "For Example, the momemnt User hears the name Justice League, the first is Snyder's Cut, Which actually gives the name\n",
    "             Zack Snyder, the director of the Snyder cut\n",
    "             \n",
    "Proving Point : What was name of the head of the vfx team?\n",
    "              : Like its mentioned, people dont remember :)\n",
    "\n",
    "\"\"\"\n",
    "def get_me_the_director(data):\n",
    "    List = []\n",
    "    for i in ast.literal_eval(data):\n",
    "        if i['job'] == 'Director':\n",
    "            List.append(i['name'])\n",
    "    return List"
   ]
  },
  {
   "cell_type": "code",
   "execution_count": null,
   "id": "d23043dd",
   "metadata": {},
   "outputs": [],
   "source": [
    "#Refining our data with the help of helper functions\n",
    "\n",
    "movies['genres']= movies['genres'].apply(convert)          #Provides the list of raw tags for all the movies containing\n",
    "                                                           #the name-values in the genre column of the movies\n",
    "    \n",
    "movies['keywords']= movies['keywords'].apply(convert)      #Provides the list of raw tags for all the movies containing\n",
    "                                                           #the name-values in the keywords column of the movies\n",
    "    \n",
    "movies['cast']= movies['cast'].apply(top_four_people)       #Provides the list of top four actors/actressses\n",
    "                                                            #for all the movies\n",
    "                                                              \n",
    "movies['crew']= movies['crew'].apply(get_me_the_director)   #Provides the list of directors for all the movies\n",
    "\n",
    "movies['overview'] = movies['overview'].apply(lambda x:x.split()) #Converts the overview string for each movie to a list \n",
    "                                                                  #containg all the words in the string"
   ]
  },
  {
   "cell_type": "code",
   "execution_count": null,
   "id": "4eedd3cb",
   "metadata": {},
   "outputs": [],
   "source": [
    "movies.head()             #Displaying all the changes done to refine our data, conversion to a list of tags"
   ]
  },
  {
   "cell_type": "code",
   "execution_count": 1,
   "id": "8a902123",
   "metadata": {
    "scrolled": false
   },
   "outputs": [],
   "source": [
    "\"\"\"\n",
    "STEP 4 : Transformation of data\n",
    "Before creating the tags that can be used in the recommender system, the spaces between the raw tags has to be removed\n",
    "So that no ambiguity arises when a raw tag which consists of a few words, is converted into usable tags where every word of\n",
    "the raw-tag becomes and individual tag.\n",
    "\n",
    "For Example : The system wants 'Science Fiction' as a one word tag 'ScienceFiction' and not as 'Science' and 'Fiction' \n",
    "              seperately.\n",
    "            : This space is problem as now 'science' and 'fiction' tags will be used even when there might not be a need. \n",
    "            : Like in case of a real autobiography of a scientist, science will be a tag, but the user who watched a \n",
    "              science-fiction movie might not be interested in real stories. And still will receive the recommendation of \n",
    "              every movie which may or may not be fiction but related to science, just because 'science' and 'fiction' tags \n",
    "              were not dealt with properly.\n",
    "Similair problem can occur when two actors sharing the first name are treated as an individual entity\n",
    "\n",
    "Below is the code implementation to do the task\n",
    "\n",
    "The lambda function used, removes the space between each element(if any) of the list supplied\n",
    "\"\"\"\n",
    "\n",
    "\n",
    "movies['cast'] = movies['cast'].apply(lambda x:[i.replace(' ','') for i in x])\n",
    "movies['crew'] = movies['crew'].apply(lambda x:[i.replace(' ','') for i in x])\n",
    "movies['genres'] = movies['genres'].apply(lambda x:[i.replace(' ','') for i in x])\n",
    "movies['keywords'] = movies['keywords'].apply(lambda x:[i.replace(' ','') for i in x])"
   ]
  },
  {
   "cell_type": "code",
   "execution_count": null,
   "id": "6a1e261a",
   "metadata": {},
   "outputs": [],
   "source": [
    "movies.head()         #Displaying data with the changes done to its spacing"
   ]
  },
  {
   "cell_type": "code",
   "execution_count": null,
   "id": "cdaa3123",
   "metadata": {},
   "outputs": [],
   "source": [
    "\"\"\"\n",
    "STEP 5 : Providing tags to our data\n",
    "\n",
    "Now that the missing-data problem, duplicate data problem and space problems have been resolved, its time to get the refined\n",
    "tags, which will be used by our data.\n",
    "For this a new column containing the tags will be created and the five columns that were refined previously will be merged \n",
    "into it.\n",
    "Following this step the five columns will be dropped(Not necessary but must be done), so as to improve the space utilisation\n",
    "\"\"\"\n",
    "movies['tags'] = movies['overview'] + movies['genres'] + movies['keywords'] + movies['cast'] + movies['crew']\n",
    "\n",
    "#A new database with only three columns: movie_id,title and tags\n",
    "\n",
    "Movie = movies.drop(columns=['overview','genres','keywords','cast','crew'])"
   ]
  },
  {
   "cell_type": "code",
   "execution_count": null,
   "id": "d588f9ef",
   "metadata": {},
   "outputs": [],
   "source": [
    "Movie.head()         #Displaying data with the changes done to its spacing"
   ]
  },
  {
   "cell_type": "code",
   "execution_count": null,
   "id": "86a13ac6",
   "metadata": {},
   "outputs": [],
   "source": [
    "#Now converting the merged lists in tags into one string data i.e. a group of tags\n",
    "Movie['tags'] = Movie['tags'].apply(lambda x: \" \".join(x))\n",
    "\n",
    "#The mergeed lists are now combined into one group,below mentioned code displays the tags for first movie\n",
    "Movie['tags'][0]"
   ]
  },
  {
   "cell_type": "code",
   "execution_count": null,
   "id": "93ac26b5",
   "metadata": {},
   "outputs": [],
   "source": [
    "\"\"\"\n",
    "The Natural Language Toolkit (NLTK) is used for processing the tags, to remove redundancy and to save on the space occupied by almost identical tags\n",
    "PorterStemmer is used for stemming the tags\n",
    "\"\"\"\n",
    "import nltk\n",
    "from nltk import PorterStemmer\n",
    "ps = PorterStemmer()"
   ]
  },
  {
   "cell_type": "code",
   "execution_count": null,
   "id": "31deec9f",
   "metadata": {},
   "outputs": [],
   "source": [
    "#Function to stem the tags and return the list of tags\n",
    "\n",
    "def stem(data):      \n",
    "    List = []\n",
    "    for i in data.split():\n",
    "        List.append(ps.stem(i))\n",
    "    return \" \".join(List)"
   ]
  },
  {
   "cell_type": "code",
   "execution_count": null,
   "id": "0740f964",
   "metadata": {},
   "outputs": [],
   "source": [
    "Movie['tags'] = Movie['tags'].apply(stem)   #Stemming the tags"
   ]
  },
  {
   "cell_type": "code",
   "execution_count": null,
   "id": "12feca86",
   "metadata": {},
   "outputs": [],
   "source": [
    "\"\"\"\n",
    "Now that tags are ready Vectorisation of data can be done.\n",
    "\n",
    "The main task at hand is to find the similarities between the movies so that the recommender can act accordingly and \n",
    "can provide the appropriate.\n",
    "\n",
    "To do this the entire dataset has to be vectorised where each movie reprents a point on a 2d graph \n",
    "\n",
    "And the recommender system will suggest the closest 'n' points, from a given point. \n",
    "To convert the text to vectors, our system will be using \"Bag of Words Technique\".\n",
    "\n",
    "There are other advanced techniques but because it is our first project so we chose to use a simpler yet efficient technique.\n",
    "\n",
    "While vectorisation, the stop words are to omitted, eg: words like is,are,to etc.\n",
    "\n",
    "For this task Scikit-learn library will be used\n",
    "\"\"\"\n",
    "\n",
    "from sklearn.feature_extraction.text import CountVectorizer\n",
    "cv = CountVectorizer(max_features=5000,stop_words='english')\n",
    "\n",
    "vector = cv.fit_transform(Movie['tags']).toarray()\n",
    "\n",
    "vector.shape"
   ]
  },
  {
   "cell_type": "code",
   "execution_count": null,
   "id": "ac1c58cb",
   "metadata": {},
   "outputs": [],
   "source": [
    "\"\"\"\n",
    "For getting the cosine similarity\n",
    "The definition of similarity between two vectors u and v is, in fact, the ratio between their dot product and the product of their magnitudes.\n",
    "By applying the definition of similarity, this will be in fact equal to 1 if the two vectors are identical,\n",
    "and it will be 0 if the two are orthogonal. \n",
    "In other words, the similarity is a number bounded between 0 and 1 that tells us how much the two vectors are similar.\n",
    "\"\"\"\n",
    "from sklearn.metrics.pairwise import cosine_similarity\n",
    "similarity = cosine_similarity(vector)   "
   ]
  },
  {
   "cell_type": "code",
   "execution_count": null,
   "id": "478d41e5",
   "metadata": {},
   "outputs": [],
   "source": [
    "similarity[0]      #Shows The Similarity between the tags "
   ]
  },
  {
   "cell_type": "code",
   "execution_count": null,
   "id": "82d05d38",
   "metadata": {},
   "outputs": [],
   "source": [
    "def recommend(movie):                                  \n",
    "    index = Movie[Movie['title'] == movie].index[0]\n",
    "    distances = sorted(list(enumerate(similarity[index])),reverse=True,key = lambda x: x[1])\n",
    "    for i in distances[1:7]:\n",
    "        print(Movie.iloc[i[0]].title)"
   ]
  },
  {
   "cell_type": "code",
   "execution_count": null,
   "id": "83a57e13",
   "metadata": {},
   "outputs": [],
   "source": [
    "recommend('Ramanujan')"
   ]
  }
 ],
 "metadata": {
  "kernelspec": {
   "display_name": "Python 3 (ipykernel)",
   "language": "python",
   "name": "python3"
  },
  "language_info": {
   "codemirror_mode": {
    "name": "ipython",
    "version": 3
   },
   "file_extension": ".py",
   "mimetype": "text/x-python",
   "name": "python",
   "nbconvert_exporter": "python",
   "pygments_lexer": "ipython3",
   "version": "3.9.0"
  }
 },
 "nbformat": 4,
 "nbformat_minor": 5
}
